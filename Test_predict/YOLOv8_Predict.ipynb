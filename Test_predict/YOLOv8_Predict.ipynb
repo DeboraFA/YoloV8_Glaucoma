{
 "cells": [
  {
   "cell_type": "code",
   "execution_count": null,
   "id": "5d8d299a",
   "metadata": {},
   "outputs": [],
   "source": [
    "from ultralytics import YOLO\n",
    "import glob\n",
    "import cv2\n",
    "import numpy as np\n",
    "import imutils\n",
    "from PIL import Image\n",
    "import matplotlib.pyplot as plt\n",
    "import torchvision.transforms as T"
   ]
  },
  {
   "cell_type": "code",
   "execution_count": null,
   "id": "49a77a17",
   "metadata": {},
   "outputs": [],
   "source": [
    "# Export the model\n",
    "\n",
    "yolo_model = YOLO('C:/Users/debora.assis/Documents/YoloV8_Glaucoma/Train_data/runs/segment/train/weights/yolo.pt' ) "
   ]
  },
  {
   "cell_type": "markdown",
   "id": "b0094a86",
   "metadata": {},
   "source": [
    "Segmentação - contorno do disco óptico"
   ]
  },
  {
   "cell_type": "code",
   "execution_count": null,
   "id": "1c5789d2",
   "metadata": {},
   "outputs": [],
   "source": [
    "path = 'C:/Users/debora.assis/Documents/0_Glaucoma/Dataset/REFUGE/test/images/'\n",
    "\n",
    "# Mapeamento de cores para cada classe\n",
    "class_colors = [(255, 0, 0), (255, 255, 0)]  # Exemplo: vermelho para classe 0, verde para classe 1\n",
    "\n",
    "for image_path in glob.glob(path + \"/*\"):\n",
    "    results = list(yolo_model(image_path, conf=0.1))\n",
    "    result = results[0]\n",
    "\n",
    "    if len(result) > 0:\n",
    "        img = cv2.imread(image_path)\n",
    "        img = cv2.cvtColor(img, cv2.COLOR_BGR2RGB)\n",
    "        img_name = image_path.split('\\\\')[1][:-4]\n",
    "\n",
    "        img2 = cv2.resize(img, (640, 640))\n",
    "\n",
    "        to_pil = T.ToPILImage()\n",
    "        mask_result = [to_pil(mask) for mask in result.masks.data]\n",
    "\n",
    "        img_mask = np.zeros_like(img2)  # Imagem para desenhar as máscaras\n",
    "\n",
    "        for i, mask in enumerate(mask_result):\n",
    "            \n",
    "            mask_array = np.array(mask)\n",
    "            \n",
    "            color = class_colors[i]  # Cor correspondente à classe atual\n",
    "            img_mask[mask_array.astype(bool)] = color\n",
    "            color = class_colors[i]  # Cor correspondente à classe atual\n",
    "            contours = cv2.findContours(mask_array, cv2.RETR_EXTERNAL, cv2.CHAIN_APPROX_SIMPLE)\n",
    "            contours = imutils.grab_contours(contours)\n",
    "            contours = max(contours, key=cv2.contourArea)\n",
    "            cv2.drawContours(img2, [contours], -1, color, thickness=2)\n",
    "\n",
    "        fig, ax = plt.subplots(nrows=1, ncols=3, figsize=(10, 8))\n",
    "\n",
    "        ax = ax.flatten()\n",
    "        for a in ax:\n",
    "            ax[0].imshow(img)\n",
    "            ax[0].set_title(str(img_name), fontsize=12)\n",
    "            ax[0].set_xticks([])\n",
    "            ax[0].set_yticks([])\n",
    "\n",
    "            ax[1].imshow(np.array(img_mask))\n",
    "            ax[1].set_title('Predicted Mask', fontsize=12)\n",
    "            ax[1].set_xticks([])\n",
    "            ax[1].set_yticks([])\n",
    "\n",
    "            ax[2].imshow(img2)\n",
    "            ax[2].set_title('Contour Image', fontsize=12)\n",
    "            ax[2].set_xticks([])\n",
    "            ax[2].set_yticks([])\n",
    "\n",
    "            plt.show()\n"
   ]
  },
  {
   "cell_type": "markdown",
   "id": "140c8294",
   "metadata": {},
   "source": [
    "Localização do disco óptico "
   ]
  },
  {
   "cell_type": "code",
   "execution_count": null,
   "id": "f365d87b",
   "metadata": {},
   "outputs": [],
   "source": [
    "def yolov8_detect(image_path):\n",
    "    image = cv2.imread(image_path)\n",
    "    image = cv2.cvtColor(image, cv2.COLOR_BGR2RGB)\n",
    "\n",
    "    res = list(yolo_model(image_path, conf=0.1))\n",
    "    # Loop através dos resultados da detecção\n",
    "    max_confidence = -1  # Initialize with a negative value\n",
    "    best_box = None\n",
    "\n",
    "    for result in res:\n",
    "        for box in result.boxes.xyxy:\n",
    "            x1, y1, x2, y2 = map(int, box)\n",
    "            confidence = float(result.boxes.conf)\n",
    "            label = int(result.boxes.cls)\n",
    "\n",
    "            # Check if the current confidence is higher than the maximum confidence\n",
    "            if confidence > max_confidence:\n",
    "                max_confidence = confidence\n",
    "                best_box = (x1, y1, x2, y2)\n",
    "\n",
    "    # Now, best_box contains the coordinates of the bounding box with the highest confidence.\n",
    "    if best_box is not None:\n",
    "        x1, y1, x2, y2 = best_box\n",
    "        color = (0, 255, 0)  # Cor da bounding box (verde)\n",
    "        thickness = 2  # Espessura da linha\n",
    "        cv2.rectangle(image, (x1, y1), (x2, y2), color, thickness)\n",
    "\n",
    "        # Adicionar rótulo e confiança\n",
    "#         text = f'Class: {label}, Conf: {confidence:.2f}'\n",
    "        text = f'Conf: {confidence:.2f}'\n",
    "        if confidence > 0.1:\n",
    "            i = 1\n",
    "        else:\n",
    "            i = 0\n",
    "        cv2.putText(image, text, (x1, y1 - 10), cv2.FONT_HERSHEY_SIMPLEX, 1.5, color, thickness)\n",
    "\n",
    "    # Mostrar a imagem com as bounding boxes\n",
    "    plt.imshow(image)\n",
    "    plt.show()\n",
    "    return i"
   ]
  },
  {
   "cell_type": "code",
   "execution_count": null,
   "id": "8e973737",
   "metadata": {},
   "outputs": [],
   "source": [
    "# Refuge teste\n",
    "path = 'C:/Users/debora.assis/Documents/YoloV8_Glaucoma/Test_predict/data_test_refuge/'\n",
    "extensoes = ['jpg', 'jpeg', 'png']\n",
    "imagens_path = [imagem for extensao in extensoes for imagem in glob.glob(f'{path}/*.{extensao}')]\n",
    "i=[]\n",
    "for img_path in imagens_path:\n",
    "    a = yolov8_detect(img_path) \n",
    "    i.append(a)\n"
   ]
  },
  {
   "cell_type": "code",
   "execution_count": null,
   "id": "d6378d97",
   "metadata": {},
   "outputs": [],
   "source": [
    "len(i)"
   ]
  },
  {
   "cell_type": "code",
   "execution_count": null,
   "id": "fd5a9ec5",
   "metadata": {},
   "outputs": [],
   "source": [
    "# DRISHT-GS\n",
    "path = 'C:/Users/debora.assis/Documents/YoloV8_Glaucoma/Test_predict/teste_externo/'\n",
    "extensoes = ['jpg', 'jpeg', 'png']\n",
    "imagens_path = [imagem for extensao in extensoes for imagem in glob.glob(f'{path}/*.{extensao}')]\n",
    "i=[]\n",
    "for img_path in imagens_path:\n",
    "    a = yolov8_detect(img_path) \n",
    "    i.append(a)\n",
    "    "
   ]
  },
  {
   "cell_type": "code",
   "execution_count": null,
   "id": "e5e76409",
   "metadata": {},
   "outputs": [],
   "source": [
    "sum(i)"
   ]
  },
  {
   "cell_type": "code",
   "execution_count": null,
   "id": "c75edb78",
   "metadata": {},
   "outputs": [],
   "source": [
    "# ORIGA\n",
    "path = 'D:/Glaucoma/Banco_de_dados/ORIGA/glaucoma/'\n",
    "extensoes = ['jpg', 'jpeg', 'png']\n",
    "imagens_path = [imagem for extensao in extensoes for imagem in glob.glob(f'{path}/*.{extensao}')]\n",
    "i=[]\n",
    "for img_path in imagens_path:\n",
    "    a = yolov8_detect(img_path) \n",
    "    i.append(a)\n"
   ]
  },
  {
   "cell_type": "code",
   "execution_count": null,
   "id": "d4dd0b04",
   "metadata": {},
   "outputs": [],
   "source": [
    "sum(i)  "
   ]
  },
  {
   "cell_type": "code",
   "execution_count": null,
   "id": "9502f5ae",
   "metadata": {},
   "outputs": [],
   "source": [
    "# ORIGA\n",
    "path = 'D:/Glaucoma/Banco_de_dados/ORIGA/sanas/'\n",
    "extensoes = ['jpg', 'jpeg', 'png']\n",
    "imagens_path = [imagem for extensao in extensoes for imagem in glob.glob(f'{path}/*.{extensao}')]\n",
    "i=[]\n",
    "for img_path in imagens_path:\n",
    "    a = yolov8_detect(img_path) \n",
    "    i.append(a)\n"
   ]
  },
  {
   "cell_type": "code",
   "execution_count": null,
   "id": "16abe23c",
   "metadata": {},
   "outputs": [],
   "source": [
    "sum(i)"
   ]
  },
  {
   "cell_type": "code",
   "execution_count": null,
   "id": "4693af98",
   "metadata": {},
   "outputs": [],
   "source": [
    "# HRF\n",
    "path = 'D:/Glaucoma/Banco_de_dados/HRF/images/Glaucoma/'\n",
    "extensoes = ['jpg', 'jpeg', 'png']\n",
    "imagens_path = [imagem for extensao in extensoes for imagem in glob.glob(f'{path}/*.{extensao}')]\n",
    "i=[]\n",
    "for img_path in imagens_path:\n",
    "    a = yolov8_detect(img_path) \n",
    "    i.append(a)"
   ]
  },
  {
   "cell_type": "code",
   "execution_count": null,
   "id": "69237d97",
   "metadata": {},
   "outputs": [],
   "source": [
    "sum(i)  "
   ]
  },
  {
   "cell_type": "code",
   "execution_count": null,
   "id": "9552fe9c",
   "metadata": {},
   "outputs": [],
   "source": [
    "# HRF\n",
    "path = 'D:/Glaucoma/Banco_de_dados/HRF/images/Normal/'\n",
    "extensoes = ['jpg', 'jpeg', 'png']\n",
    "imagens_path = [imagem for extensao in extensoes for imagem in glob.glob(f'{path}/*.{extensao}')]\n",
    "i=[]\n",
    "for img_path in imagens_path:\n",
    "    a = yolov8_detect(img_path) \n",
    "    i.append(a)"
   ]
  },
  {
   "cell_type": "code",
   "execution_count": null,
   "id": "f548b0f8",
   "metadata": {},
   "outputs": [],
   "source": [
    "sum(i)"
   ]
  },
  {
   "cell_type": "code",
   "execution_count": null,
   "id": "981767e8",
   "metadata": {},
   "outputs": [],
   "source": [
    "# HRF\n",
    "path = 'D:/Glaucoma/Banco_de_dados/HRF/images/Retinopatia/'\n",
    "extensoes = ['jpg', 'jpeg', 'png']\n",
    "imagens_path = [imagem for extensao in extensoes for imagem in glob.glob(f'{path}/*.{extensao}')]\n",
    "i=[]\n",
    "for img_path in imagens_path:\n",
    "    a = yolov8_detect(img_path) \n",
    "    i.append(a)"
   ]
  },
  {
   "cell_type": "code",
   "execution_count": null,
   "id": "05ef47f8",
   "metadata": {},
   "outputs": [],
   "source": [
    "sum(i)"
   ]
  }
 ],
 "metadata": {
  "kernelspec": {
   "display_name": "Python 3",
   "language": "python",
   "name": "python3"
  },
  "language_info": {
   "codemirror_mode": {
    "name": "ipython",
    "version": 3
   },
   "file_extension": ".py",
   "mimetype": "text/x-python",
   "name": "python",
   "nbconvert_exporter": "python",
   "pygments_lexer": "ipython3",
   "version": "3.8.8"
  }
 },
 "nbformat": 4,
 "nbformat_minor": 5
}
