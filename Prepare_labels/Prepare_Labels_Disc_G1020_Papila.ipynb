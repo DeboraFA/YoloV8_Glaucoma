{
 "cells": [
  {
   "cell_type": "code",
   "execution_count": null,
   "id": "11c048bd",
   "metadata": {},
   "outputs": [],
   "source": [
    "import glob\n",
    "import os\n",
    "import cv2\n",
    "import numpy as np\n",
    "import matplotlib.pyplot as plt\n",
    "import imutils\n",
    "from rasterio import features"
   ]
  },
  {
   "cell_type": "code",
   "execution_count": null,
   "id": "d0f0bae0",
   "metadata": {},
   "outputs": [],
   "source": [
    "# Salvar imagens com as dimensões 640 x 640 \n",
    "def save_resize_img(dir_path):\n",
    "    for image_path in glob.glob(dir_path + \"/*\"):\n",
    "        img = cv2.imread(image_path)\n",
    "        img = cv2.resize(img, (640, 640))\n",
    "        cv2.imwrite(image_path, img)\n",
    "    return \n",
    "\n"
   ]
  },
  {
   "cell_type": "markdown",
   "id": "378623ed",
   "metadata": {},
   "source": [
    "# Create yolo labels"
   ]
  },
  {
   "cell_type": "code",
   "execution_count": null,
   "id": "17e66dd3",
   "metadata": {},
   "outputs": [],
   "source": [
    "# label encoding\n",
    "def label_encoding(x):\n",
    "    labels = {'Disc':0, 'Cup':1}\n",
    "    return labels[x]    \n",
    "    \n",
    "def extract_yolo(path, img_name, path_masks):\n",
    "    \n",
    "    if not os.path.exists(path):\n",
    "        os.makedirs(path)\n",
    "    \n",
    "    j = 'Disc'\n",
    "    \n",
    "    for i in range(len(img_name)):\n",
    "#         mask_image = cv2.imread(path_masks + img_name[i] + '_ODsegSoftmap.png') # drishti-gs\n",
    "        mask_image = cv2.imread(path_masks + 'disc_' + img_name[i] + '.jpg') #g1020\n",
    "#         mask_image = cv2.imread(path_masks + img_name[i] + '_disc_exp1.jpg') # papila\n",
    "\n",
    "        \n",
    "        mask_image = cv2.cvtColor(mask_image, cv2.COLOR_BGR2GRAY)\n",
    "#         mask_image = cv2.resize(mask_image, (640, 640))\n",
    "        \n",
    "        # Convert to binary image using thresholding\n",
    "        mask_image = cv2.threshold(mask_image, 50, 255, cv2.THRESH_BINARY)[1]  # cup optic \n",
    "        \n",
    "        cords = list(features.shapes(mask_image, mask=(mask_image >0)))[0][0]['coordinates'][0]\n",
    "        label_line = str(label_encoding(j))+ ' ' + ' '.join([f'{int(cord[0])/mask_image.shape[1]} {int(cord[1])/mask_image.shape[0]}' for cord in cords])\n",
    "\n",
    "        # Plotar contornos das coordenadas nas máscaras\n",
    "#         plt.imshow(mask_image, cmap='gray')\n",
    "#         x_coords = [coord[0] for coord in cords]\n",
    "#         y_coords = [coord[1] for coord in cords]\n",
    "#         plt.plot(x_coords, y_coords, 'ro', markersize=2)  \n",
    "#         plt.show()\n",
    "\n",
    "        \n",
    "        # Save bounding boxes to a file in YOLOv8 format\n",
    "        with open(path + '/' + img_name[i] + '.txt', 'a') as f:\n",
    "            f.write(label_line)\n",
    "\n",
    "        # Remove duplicate\n",
    "        with open(path + '/' + img_name[i] + '.txt', 'r') as input_file:\n",
    "            lines = input_file.readlines()\n",
    "            # Remove duplicates from the list of lines\n",
    "            unique_lines = sorted(list(set(lines)))\n",
    "            # Open the output file and write the unique lines to it\n",
    "            with open(path + '/' + img_name[i] + '.txt', 'w') as output_file:\n",
    "                output_file.writelines(unique_lines)\n",
    "\n",
    "    return label_line\n",
    "\n"
   ]
  },
  {
   "cell_type": "code",
   "execution_count": null,
   "id": "0747a26e",
   "metadata": {},
   "outputs": [],
   "source": [
    "# Ler o nome de todas as imagens de treino e teste\n",
    "def image_name(dir_path):\n",
    "    img_name = []\n",
    "    for image_path in glob.glob(dir_path + \"/*\"):\n",
    "        file = image_path.split(\"\\\\\")[-1][:-4]\n",
    "        if image_path.split(\"\\\\\")[-1][-4:] == '.jpg':\n",
    "            img_name.append(file)\n",
    "    return img_name\n",
    "\n",
    "\n",
    "\n",
    "img_name_train = image_name('D:/Glaucoma/Banco_de_dados/G1020/images/')\n",
    "# img_name_val = image_name('C:/Users/debora.assis/Documents/Multi_Classe/papila/Images/0_Normal/')\n",
    "# img_name_val2 = image_name('C:/Users/debora.assis/Documents/Multi_Classe/papila/Images/1_Glaucoma/')\n",
    "# img_name_test = image_name('C:/Users/debora.assis/Documents/Multi_Classe/papila/Images/2_Suspeito/')\n",
    "\n"
   ]
  },
  {
   "cell_type": "code",
   "execution_count": null,
   "id": "a1589088",
   "metadata": {},
   "outputs": [],
   "source": [
    "# pastas que estão localizadas as máscaras \n",
    "path_masks_train = 'D:/Glaucoma/Banco_de_dados/G1020/masks/'\n",
    "# path_masks_val = 'C:/Users/debora.assis/Documents/Multi_Classe/papila/Masks_sep/0_Normal/'\n",
    "# path_masks_val2 = 'C:/Users/debora.assis/Documents/Multi_Classe/papila/Masks_sep/1_Glaucoma/'\n",
    "# path_masks_test = 'C:/Users/debora.assis/Documents/Multi_Classe/papila/Masks_sep/2_Suspeito/'\n",
    "\n",
    "\n",
    "# pastas criadas que estarão as saídas das labels\n",
    "path_output_train = 'C:/Users/debora.assis/Documents/REFUGE/train/labels/'\n",
    "# path_output_val = 'C:/Users/debora.assis/Documents/REFUGE/train/labels/'\n",
    "# path_output_val2 = 'C:/Users/debora.assis/Documents/REFUGE/train/labels/'\n",
    "# path_output_test = 'C:/Users/debora.assis/Documents/REFUGE/train/labels/'\n",
    "\n",
    "\n",
    "yolo_train = extract_yolo(path_output_train, img_name_train, path_masks_train)\n",
    "# yolo_val = extract_yolo(path_output_val, img_name_val, path_masks_val)\n",
    "# yolo_val2 = extract_yolo(path_output_val2, img_name_val2, path_masks_val2)\n",
    "# yolo_test = extract_yolo(path_output_test, img_name_test, path_masks_test)"
   ]
  },
  {
   "cell_type": "code",
   "execution_count": null,
   "id": "c7c55546",
   "metadata": {},
   "outputs": [],
   "source": [
    "# Copiar arquivos de uma pasta para outra"
   ]
  },
  {
   "cell_type": "code",
   "execution_count": null,
   "id": "f7ce9bf2",
   "metadata": {},
   "outputs": [],
   "source": [
    "import os\n",
    "from PIL import Image\n",
    "import shutil\n",
    "\n",
    "path = 'C:/Users/debora.assis/Documents/YOLOv5_bounding_box_from_masks/PrepareData/teste_externo/'\n",
    "pasta_destino = 'C:/Users/debora.assis/Documents/REFUGE/test_drisht/images'\n",
    "\n",
    "arquivos_na_pasta = os.listdir(path)\n",
    "nomes_de_imagens = [arquivo for arquivo in arquivos_na_pasta if arquivo.lower().endswith(('.jpg', '.jpeg', '.png', '.gif', '.bmp'))]\n",
    "\n",
    "# Itera pelos arquivos na pasta de origem\n",
    "for arquivo in arquivos_na_pasta:\n",
    "    caminho_completo = os.path.join(path, arquivo)\n",
    "    \n",
    "    # Verifica se o arquivo é uma imagem\n",
    "    if arquivo.lower().endswith(('.jpg', '.jpeg', '.png', '.gif', '.bmp')):\n",
    "        # Abre a imagem com o Pillow\n",
    "        imagem = Image.open(caminho_completo)\n",
    "        \n",
    "        # Redimensiona para 640x640 pixels\n",
    "        imagem_redimensionada = imagem.resize((640, 640))\n",
    "        \n",
    "        # Define o caminho de destino com o mesmo nome do arquivo original\n",
    "        caminho_destino = os.path.join(pasta_destino, arquivo)\n",
    "        \n",
    "        # Salva a imagem redimensionada na pasta de destino\n",
    "        imagem_redimensionada.save(caminho_destino)\n",
    "        print(f'{arquivo} redimensionado e copiado para {caminho_destino}')\n"
   ]
  },
  {
   "cell_type": "code",
   "execution_count": null,
   "id": "34179832",
   "metadata": {},
   "outputs": [],
   "source": [
    "# Mover arquivos\n",
    "import shutil\n",
    "\n",
    "path = 'C:/Users/debora.assis/Documents/data/train/labels/'\n",
    "\n",
    "arquivos_na_pasta = os.listdir(path)\n",
    "nomes_de_imagens = [arquivo for arquivo in arquivos_na_pasta if arquivo.lower().endswith(('.jpg', '.jpeg', '.png', '.gif', '.bmp', '.txt'))]\n",
    "\n",
    "for i in nomes_de_imagens:\n",
    "    img_path =  os.path.join('C:/Users/debora.assis/Documents/REFUGE/train/labels/', i)\n",
    "    print(img_path)\n",
    "    shutil.move(img_path, 'C:/Users/debora.assis/Documents/apagar/train/labels/'+ i)\n"
   ]
  },
  {
   "cell_type": "code",
   "execution_count": null,
   "id": "20085247",
   "metadata": {},
   "outputs": [],
   "source": []
  },
  {
   "cell_type": "code",
   "execution_count": null,
   "id": "179dd303",
   "metadata": {},
   "outputs": [],
   "source": [
    "# path_masks = 'C:/Users/debora.assis/Documents/Multi_Classe/papila/Masks_sep/0_Normal/'\n",
    "# mask_image = cv2.imread(path_masks +'RET027OD_disc_exp1.jpg') # papila\n",
    "\n",
    "path_masks = 'D:/Glaucoma/Banco_de_dados/G1020/masks/'\n",
    "mask_image = cv2.imread(path_masks + 'disc_image_105' + '.jpg') #g1020\n",
    "\n",
    "mask_image = cv2.cvtColor(mask_image, cv2.COLOR_BGR2GRAY)\n",
    "#         mask_image = cv2.resize(mask_image, (640, 640))\n",
    "\n",
    "mask_image = cv2.threshold(mask_image, 50, 255, cv2.THRESH_BINARY)[1]  # cup optic \n",
    "\n",
    "cords = list(features.shapes(mask_image, mask=(mask_image >0)))[0][0]['coordinates'][0]\n",
    "label_line = str(0)+ ' ' + ' '.join([f'{int(cord[0])/mask_image.shape[1]} {int(cord[1])/mask_image.shape[0]}' for cord in cords])\n",
    "\n",
    "# Plotar contornos das coordenadas nas máscaras\n",
    "plt.imshow(mask_image, cmap='gray')\n",
    "x_coords = [coord[0] for coord in cords]\n",
    "y_coords = [coord[1] for coord in cords]\n",
    "plt.plot(x_coords, y_coords, 'ro', markersize=2)  \n",
    "plt.show()\n"
   ]
  },
  {
   "cell_type": "code",
   "execution_count": null,
   "id": "de1e3555",
   "metadata": {},
   "outputs": [],
   "source": [
    "cords"
   ]
  },
  {
   "cell_type": "code",
   "execution_count": null,
   "id": "26efb451",
   "metadata": {},
   "outputs": [],
   "source": [
    "label_line"
   ]
  },
  {
   "cell_type": "code",
   "execution_count": null,
   "id": "9272658b",
   "metadata": {},
   "outputs": [],
   "source": []
  },
  {
   "cell_type": "code",
   "execution_count": null,
   "id": "48d2d10d",
   "metadata": {},
   "outputs": [],
   "source": [
    "cords"
   ]
  },
  {
   "cell_type": "code",
   "execution_count": null,
   "id": "3e0ad9d2",
   "metadata": {},
   "outputs": [],
   "source": []
  },
  {
   "cell_type": "code",
   "execution_count": null,
   "id": "5b68a218",
   "metadata": {},
   "outputs": [],
   "source": []
  }
 ],
 "metadata": {
  "kernelspec": {
   "display_name": "Python 3",
   "language": "python",
   "name": "python3"
  },
  "language_info": {
   "codemirror_mode": {
    "name": "ipython",
    "version": 3
   },
   "file_extension": ".py",
   "mimetype": "text/x-python",
   "name": "python",
   "nbconvert_exporter": "python",
   "pygments_lexer": "ipython3",
   "version": "3.8.8"
  }
 },
 "nbformat": 4,
 "nbformat_minor": 5
}
