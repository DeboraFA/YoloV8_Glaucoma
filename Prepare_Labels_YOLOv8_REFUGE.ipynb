{
 "cells": [
  {
   "cell_type": "code",
   "execution_count": 1,
   "id": "11c048bd",
   "metadata": {},
   "outputs": [],
   "source": [
    "import glob\n",
    "import os\n",
    "import cv2\n",
    "import numpy as np\n",
    "import matplotlib.pyplot as plt\n",
    "import imutils\n",
    "from rasterio import features"
   ]
  },
  {
   "cell_type": "code",
   "execution_count": 2,
   "id": "0747a26e",
   "metadata": {},
   "outputs": [],
   "source": [
    "# Ler o nome de todas as imagens de treino e teste\n",
    "def image_name(dir_path):\n",
    "    img_name = []\n",
    "    for image_path in glob.glob(dir_path + \"/*\"):\n",
    "        file = image_path.split(\"\\\\\")[-1][:-4]\n",
    "        img_name.append(file)\n",
    "    return img_name\n",
    "\n",
    "\n",
    "\n",
    "img_name_train = image_name('C:/Users/debora.assis/Documents/REFUGE/train/images/')\n",
    "img_name_val = image_name('C:/Users/debora.assis/Documents/REFUGE/valid/images/')\n",
    "img_name_test = image_name('C:/Users/debora.assis/Documents/REFUGE/test/images/')\n",
    "\n"
   ]
  },
  {
   "cell_type": "markdown",
   "id": "378623ed",
   "metadata": {},
   "source": [
    "# Create yolo labels"
   ]
  },
  {
   "cell_type": "code",
   "execution_count": 3,
   "id": "17e66dd3",
   "metadata": {},
   "outputs": [],
   "source": [
    "# label encoding\n",
    "def label_encoding(x):\n",
    "    labels = {'Disc':0, 'Cup':1}\n",
    "    return labels[x]    \n",
    "    \n",
    "def extract_yolo(path, img_name, path_masks):\n",
    "    \n",
    "    if not os.path.exists(path):\n",
    "        os.makedirs(path)\n",
    "    \n",
    "    j = 'Disc'\n",
    "    \n",
    "    for i in range(len(img_name)):\n",
    "        mask_image = cv2.imread(path_masks + img_name[i] + '.bmp')\n",
    "        mask_image = cv2.cvtColor(mask_image, cv2.COLOR_BGR2GRAY)\n",
    "        \n",
    "        mask_image = abs(255-mask_image)\n",
    "        # Convert to binary image using thresholding\n",
    "        binary_image = cv2.threshold(mask_image, 50, 255, cv2.THRESH_BINARY)[1]  # cup optic        \n",
    "        \n",
    "        cords = list(features.shapes(mask_image, mask=(mask_image >0)))[0][0]['coordinates'][0]\n",
    "        label_line = str(label_encoding(j))+ ' ' + ' '.join([f'{int(cord[0])/mask_image.shape[0]} {int(cord[1])/mask_image.shape[1]}' for cord in cords])\n",
    "\n",
    "        # Save bounding boxes to a file in YOLOv8 format\n",
    "        with open(path + '/' + img_name[i] + '.txt', 'a') as f:\n",
    "            f.write(label_line)\n",
    "\n",
    "        # Remove duplicate\n",
    "        with open(path + '/' + img_name[i] + '.txt', 'r') as input_file:\n",
    "            lines = input_file.readlines()\n",
    "            # Remove duplicates from the list of lines\n",
    "            unique_lines = sorted(list(set(lines)))\n",
    "            # Open the output file and write the unique lines to it\n",
    "            with open(path + '/' + img_name[i] + '.txt', 'w') as output_file:\n",
    "                output_file.writelines(unique_lines)\n",
    "\n",
    "    return label_line\n",
    "\n"
   ]
  },
  {
   "cell_type": "code",
   "execution_count": 4,
   "id": "a1589088",
   "metadata": {},
   "outputs": [],
   "source": [
    "# pastas que estão localizadas as máscaras \n",
    "path_masks_train = 'C:/Users/debora.assis/Documents/REFUGE/masks/train/'\n",
    "path_masks_val = 'C:/Users/debora.assis/Documents/REFUGE/masks/valid/'\n",
    "path_masks_test = 'C:/Users/debora.assis/Documents/REFUGE/masks/test/'\n",
    "\n",
    "\n",
    "# pastas que serão com as saídas das labels\n",
    "path_output_train = 'C:/Users/debora.assis/Documents/REFUGE/train/labels/'\n",
    "path_output_val = 'C:/Users/debora.assis/Documents/REFUGE/valid/labels/'\n",
    "path_output_test = 'C:/Users/debora.assis/Documents/REFUGE/test/labels/'\n",
    "\n",
    "yolo_train = extract_yolo(path_output_train, img_name_train, path_masks_train)\n",
    "yolo_val = extract_yolo(path_output_val, img_name_val, path_masks_val)\n",
    "yolo_test = extract_yolo(path_output_test, img_name_test, path_masks_test)"
   ]
  },
  {
   "cell_type": "code",
   "execution_count": null,
   "id": "7686c497",
   "metadata": {},
   "outputs": [],
   "source": []
  },
  {
   "cell_type": "code",
   "execution_count": null,
   "id": "deeb5b0c",
   "metadata": {},
   "outputs": [],
   "source": []
  }
 ],
 "metadata": {
  "kernelspec": {
   "display_name": "Python 3",
   "language": "python",
   "name": "python3"
  },
  "language_info": {
   "codemirror_mode": {
    "name": "ipython",
    "version": 3
   },
   "file_extension": ".py",
   "mimetype": "text/x-python",
   "name": "python",
   "nbconvert_exporter": "python",
   "pygments_lexer": "ipython3",
   "version": "3.8.8"
  }
 },
 "nbformat": 4,
 "nbformat_minor": 5
}
